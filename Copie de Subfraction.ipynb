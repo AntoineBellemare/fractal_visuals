{
 "cells": [
  {
   "cell_type": "code",
   "execution_count": null,
   "metadata": {
    "colab": {
     "base_uri": "https://localhost:8080/",
     "height": 125
    },
    "colab_type": "code",
    "executionInfo": {
     "elapsed": 22571,
     "status": "ok",
     "timestamp": 1559969815283,
     "user": {
      "displayName": "Antoine Bellemare",
      "photoUrl": "",
      "userId": "13646224134954443543"
     },
     "user_tz": 240
    },
    "id": "FRNnmKBJOaq6",
    "outputId": "cf383dea-414b-42aa-a6c0-04ea4730584b"
   },
   "outputs": [],
   "source": []
  },
  {
   "cell_type": "code",
   "execution_count": 2,
   "metadata": {
    "colab": {},
    "colab_type": "code",
    "id": "Pl1t2kPnPA6g"
   },
   "outputs": [],
   "source": [
    "import matplotlib.pyplot as plt\n",
    "import matplotlib.image as mpimg\n",
    "from matplotlib import animation\n",
    "import PIL\n",
    "from PIL import Image\n",
    "import numpy as np\n",
    "#from osgeo import gdal\n",
    "import sklearn.preprocessing as sk\n",
    "#from __future__ import division\n",
    "import PIL\n",
    "import cv2\n",
    "from numpy.linalg import inv\n",
    "import os\n",
    "#os.chdir(r'/content/drive/My Drive/Manizales/Photo_treatment') \n",
    "\n",
    "import matplotlib.animation as animation\n",
    "\n",
    "plt.rcParams['animation.ffmpeg_path'] = r'C:\\Program Files (x86)\\ffmpeg\\bin\\ffmpeg.exe'\n",
    "import scipy.misc\n",
    "import imageio\n",
    "import itertools\n",
    "from fractal_generator import *\n",
    "from utils import *\n",
    "#os.path.exists(r'C:\\Program Files (x86)\\ffmpeg\\bin\\ffmpeg.exe')"
   ]
  },
  {
   "cell_type": "code",
   "execution_count": 3,
   "metadata": {
    "colab": {},
    "colab_type": "code",
    "id": "m0SAQo1Ndzi8"
   },
   "outputs": [],
   "source": [
    "path = 'E:\\PsychoPy_3exp\\PsychoPy_EEG\\images\\\\'\n",
    "im = Image.open(path+'fcloud_D1.1_2.tif')\n"
   ]
  },
  {
   "cell_type": "code",
   "execution_count": 12,
   "metadata": {},
   "outputs": [
    {
     "data": {
      "text/plain": [
       "array([255, 255, 255, ..., 255, 255, 255], dtype=uint8)"
      ]
     },
     "execution_count": 12,
     "metadata": {},
     "output_type": "execute_result"
    }
   ],
   "source": [
    "#im = np.array(im)\n",
    "import seaborn as sbn"
   ]
  },
  {
   "cell_type": "code",
   "execution_count": 24,
   "metadata": {},
   "outputs": [
    {
     "data": {
      "text/plain": [
       "1.1684420422335948"
      ]
     },
     "execution_count": 24,
     "metadata": {},
     "output_type": "execute_result"
    }
   ],
   "source": [
    "fractal_dimension(np.array(im))"
   ]
  },
  {
   "cell_type": "code",
   "execution_count": null,
   "metadata": {
    "colab": {},
    "colab_type": "code",
    "id": "QFZ6QJwAjrcI"
   },
   "outputs": [],
   "source": [
    "def generate_perlin_noise_2d(shape, res):\n",
    "    def f(t):\n",
    "        return 6*t**5 - 15*t**4 + 10*t**3\n",
    "    \n",
    "    delta = (res[0] / shape[0], res[1] / shape[1])\n",
    "    d = (shape[0] // res[0], shape[1] // res[1])\n",
    "    grid = np.mgrid[0:res[0]:delta[0],0:res[1]:delta[1]].transpose(1, 2, 0) % 1\n",
    "    # Gradients\n",
    "    angles = 2*np.pi*np.random.rand(res[0]+1, res[1]+1)\n",
    "    gradients = np.dstack((np.cos(angles), np.sin(angles)))\n",
    "    g00 = gradients[0:-1,0:-1].repeat(d[0], 0).repeat(d[1], 1)\n",
    "    g10 = gradients[1:  ,0:-1].repeat(d[0], 0).repeat(d[1], 1)\n",
    "    g01 = gradients[0:-1,1:  ].repeat(d[0], 0).repeat(d[1], 1)\n",
    "    g11 = gradients[1:  ,1:  ].repeat(d[0], 0).repeat(d[1], 1)\n",
    "    # Ramps\n",
    "    n00 = np.sum(np.dstack((grid[:,:,0]  , grid[:,:,1]  )) * g00, 2)\n",
    "    n10 = np.sum(np.dstack((grid[:,:,0]-1, grid[:,:,1]  )) * g10, 2)\n",
    "    n01 = np.sum(np.dstack((grid[:,:,0]  , grid[:,:,1]-1)) * g01, 2)\n",
    "    n11 = np.sum(np.dstack((grid[:,:,0]-1, grid[:,:,1]-1)) * g11, 2)\n",
    "    # Interpolation\n",
    "    t = f(grid)\n",
    "    n0 = n00*(1-t[:,:,0]) + t[:,:,0]*n10\n",
    "    n1 = n01*(1-t[:,:,0]) + t[:,:,0]*n11\n",
    "    return np.sqrt(2)*((1-t[:,:,1])*n0 + t[:,:,1]*n1)\n",
    "        \n",
    "def generate_fractal_noise_2d(shape, res, octaves=1, persistence=0.5):\n",
    "    noise = np.zeros(shape)\n",
    "    frequency = 1\n",
    "    amplitude = 1\n",
    "    for _ in range(octaves):\n",
    "        noise += amplitude * generate_perlin_noise_2d(shape, (frequency*res[0], frequency*res[1]))\n",
    "        frequency *= 2\n",
    "        amplitude *= persistence\n",
    "    return noise\n",
    "\n",
    "\n",
    "\n",
    "def fractal_generator(persistence, size):\n",
    "    perlin = generate_fractal_noise_2d((size,size), (2,2), octaves=8, persistence=persistence)\n",
    "    #perlin = (perlin)/np.max(np.max(abs(perlin)))\n",
    "    #for i in range(len(perlin)):\n",
    "    #    for j in range(len(perlin)):\n",
    "    #        if perlin[i][j] >= 0:\n",
    "    #            perlin[i][j] = 1\n",
    "    #        elif perlin[i][j] < 0:\n",
    "    #            perlin[i][j] = -1\n",
    "    return perlin\n",
    "def downSaturation(pictu, v): \n",
    "\n",
    "  #satuP = duplicatePicture(pictu)\n",
    "  for pixel in Image.getpixel(pictu):\n",
    "    r = getRed(pixel)\n",
    "    g = getGreen(pixel)\n",
    "    b = getBlue(pixel)\n",
    "  # check if red is primary colour\n",
    "    if r > g and r > b:\n",
    "   # Saturate with red\n",
    "      r = r - v\n",
    "      if g < b:\n",
    "        g = g + v\n",
    "      else:\n",
    "        b = b + v\n",
    "\n",
    "    # check if green is primary colour\n",
    "    if g > r and g > b:\n",
    "     # Saturate with green\n",
    "      g = g - v\n",
    "      if r < b:\n",
    "        r = r + v\n",
    "      else:\n",
    "        b = b + v\n",
    "\n",
    "    # check if blue is primary colour\n",
    "    if b > r and b > g:\n",
    "     # Saturate with blue\n",
    "      b = b - v\n",
    "      if r < g:\n",
    "        r = r + v\n",
    "      else:\n",
    "        g = g + v\n",
    "\n",
    "    color = makeColor(r, g, b)\n",
    "    setColor(pixel, color)\n",
    "    explore(satuP)\n",
    "    return satuP\n",
    "  \n",
    "\n",
    "#satup = downSaturation(new_p, 5)\n",
    "\n",
    "\n",
    "def rgb2gray(rgb):\n",
    "\n",
    "    r, g, b = rgb[:,:,0], rgb[:,:,1], rgb[:,:,2]\n",
    "    gray = 0.2989 * r + 0.5870 * g + 0.1140 * b\n",
    "\n",
    "    return gray\n",
    "\n",
    "def Interpol(imageA, imageB, steps, direction = 0):\n",
    "    inter_matrix = []\n",
    "    steps = increments(steps, direction)\n",
    "    imageA = Image.fromarray(imageA).convert('RGB') \n",
    "    imageB = Image.fromarray(imageB).convert('RGB') \n",
    "    for k in steps:\n",
    "        PIL.Image.blend(imageA, imageB, k)\n",
    "        outImage = np.asarray(imageA) * (1.0 - k) + np.asarray(imageB) * k\n",
    "        inter_matrix.append(outImage)\n",
    "        #final_matrix = np.array(inter_matrix).T\n",
    "    return inter_matrix\n",
    "\n",
    "def increments (steps, direction = 0):\n",
    "    steps = int(100/steps)\n",
    "    a = range(0,100,steps)\n",
    "    b = [x for x in a]\n",
    "    \n",
    "    if direction == 1:\n",
    "        c = b + [100]\n",
    "        b.reverse()\n",
    "        d = c + b\n",
    "    else:\n",
    "        c = b\n",
    "        d = c\n",
    "    e = [x/100 for x in d]\n",
    "    return e\n",
    "\n",
    "def InterpolMulti(size, list_image, steps, direction = 0):\n",
    "\n",
    "    InterpolTemp = np.empty((0, size, size, 3))\n",
    "\n",
    "    for first, second in zip(list_image, list_image[1:]):\n",
    "        InterpolMatrix = Interpol(first, second, steps, direction)\n",
    "        InterpolMatrix = np.array(InterpolMatrix)\n",
    "        print(InterpolMatrix.shape)\n",
    "        print(InterpolTemp.shape)\n",
    "        InterpolTemp = np.vstack((InterpolTemp, InterpolMatrix))\n",
    "    InterpolMulti = np.array(InterpolTemp)\n",
    "    return InterpolMulti\n",
    "\n",
    "def create_anim(img_arr):\n",
    "    img = []\n",
    "    for i in range(img_arr.shape[0]):\n",
    "        im = plt.imshow(img_arr[i, :,:,:], animated=True)\n",
    "        plt.axis('off')\n",
    "        img.append([im])\n",
    "    return img\n",
    "\n",
    "\n",
    "\n",
    "\n",
    "def load_images_from_folder(folder):\n",
    "    images = []\n",
    "    for filename in os.listdir(folder):\n",
    "        img = cv2.imread(os.path.join(folder,filename))\n",
    "        if img is not None:\n",
    "            images.append(img)\n",
    "    return images\n",
    "\n"
   ]
  },
  {
   "cell_type": "code",
   "execution_count": null,
   "metadata": {},
   "outputs": [],
   "source": [
    "def comp_contrast(image):    \n",
    "    for i in range(len(image)):\n",
    "        for j in range(len(image)):\n",
    "            if image[i][j] >= 127:\n",
    "                image[i][j] = 255\n",
    "            elif image[i][j] < 127:\n",
    "                image[i][j] = 0\n",
    "    return image\n",
    "\n",
    "def comp_contrast_mean(image, bounds):    \n",
    "    mean = np.mean(image)\n",
    "    for i in range(len(image)):\n",
    "        for j in range(len(image)):\n",
    "            if image[i][j] >= mean:\n",
    "                image[i][j] = bounds[1]\n",
    "            elif image[i][j] < mean:\n",
    "                image[i][j] = bounds[0]\n",
    "    return image"
   ]
  },
  {
   "cell_type": "code",
   "execution_count": null,
   "metadata": {},
   "outputs": [],
   "source": [
    "##Load Images from folder\n",
    "folder = r'E:\\Images\\DeepDream\\processed_siameses_it60_b05'\n",
    "#images = load_images_from_folder(folder)\n",
    "\n"
   ]
  },
  {
   "cell_type": "code",
   "execution_count": null,
   "metadata": {},
   "outputs": [],
   "source": [
    "def generate_batch_monofractal (size, steps, min_p, max_p, n, contrast_apply = True, save = True):\n",
    "    from scipy import fftpack\n",
    "    list_p = list(range(0, steps, 1))\n",
    "    list_p = np.array(list_p)\n",
    "    list_p = list(np.interp(list_p, (list_p.min(), list_p.max()), (min_p, max_p)))\n",
    "    list_p = [np.round(i, 2) for i in list_p]\n",
    "    print(list_p)\n",
    "    fractal_images = []\n",
    "    for p in list_p:\n",
    "        frac_temp = []\n",
    "        for i in range(n):\n",
    "            im = fractal_generator(p, size)\n",
    "            im = (255*(im - np.min(im))/np.ptp(im)).astype('uint8')\n",
    "            if contrast_apply == True:\n",
    "                im = comp_contrast_mean(im)\n",
    "            #im_mf = im_mf.convert(\"L\")\n",
    "            if save == True:\n",
    "                im = Image.fromarray(im)\n",
    "                if not os.path.isdir('mono'+'-'+str(steps)+'-'+str(n)):\n",
    "                    os.mkdir('mono-'+str(steps)+'-'+str(n))\n",
    "                im.save(\"mono-{}-{}/frac_test_persistance{}-n{}.jpeg\".format(steps, n, p, i), dpi=(dpi, dpi))\n",
    "            else:\n",
    "                frac_temp.append(im)\n",
    "                print(len(frac_temp))\n",
    "        fractal_images.append(frac_temp)\n",
    "        print(len(fractal_images))\n",
    "    fractal_images = np.array(fractal_images)\n",
    "    # Rearrange array to be n*FD_value*Xpixels*Ypixels\n",
    "    return fractal_images, list_p"
   ]
  },
  {
   "cell_type": "code",
   "execution_count": null,
   "metadata": {},
   "outputs": [],
   "source": []
  },
  {
   "cell_type": "code",
   "execution_count": null,
   "metadata": {
    "scrolled": true
   },
   "outputs": [],
   "source": [
    "\n",
    "def generate_controlled_FD(images, low_bound, high_bound, n=1): \n",
    "    FD_images = []\n",
    "    time = 0\n",
    "    while time == 0:\n",
    "        for f in range(len(images)):\n",
    "            for i in range(len(images[f])):\n",
    "                fd_temp = fractal_dimension(images[f][i])\n",
    "                #print(fd_temp)\n",
    "                if ((fd_temp >= low_bound) and (fd_temp <= high_bound)):\n",
    "                    FD_images.append(images[f][i])\n",
    "                    print(len(FD_images))\n",
    "                if (f == len(images)-1 and i ==len(images[f])-1):\n",
    "                    time = 1\n",
    "    FD_images = np.array(FD_images)\n",
    "    FD_images = FD_images[:n]\n",
    "    print(FD_images.shape)\n",
    "    return FD_images\n",
    "\n",
    "def generate_controlled_FD_multi(images, list_FDs, n): \n",
    "    FDs_total = []\n",
    "    for i, fd in enumerate(list_FDs):\n",
    "        low_bound = list_FDs[i]-0.01\n",
    "        print(low_bound)\n",
    "        high_bound = list_FDs[i]+0.01\n",
    "        print(high_bound)\n",
    "        FD = generate_controlled_FD(images, low_bound, high_bound, n)\n",
    "        #FD_cut = FD[:n]\n",
    "        FDs_total.append(FD)\n",
    "        print(len(FDs_total))\n",
    "    FDs_total = np.squeeze(np.array(FDs_total)) ###array of type FD_value*n*Xpixels*Ypixels\n",
    "    return FDs_total\n",
    "\n",
    "def save_controlled_FD(images, list_FDs):\n",
    "    for i, fd in enumerate(list_FDs):\n",
    "        low_bound = list_FDs[i]-0.02\n",
    "        high_bound = list_FDs[i]+0.02\n",
    "        FD = generate_controlled_FD(images, low_bound, high_bound)\n",
    "        for j in range(len(FD)):\n",
    "            im_to_save = FD[j] \n",
    "            im = Image.fromarray(im_to_save)\n",
    "            if not os.path.isdir('mono'+'-'+str(list_FDs[0])+'-'+str(list_FDs[-1])):\n",
    "                os.mkdir('mono'+'-'+str(list_FDs[0])+'-'+str(list_FDs[-1]))\n",
    "            im.save(\"mono-{}-{}/FD{}-n{}.jpeg\".format(list_FDs[0], list_FDs[-1], fd, j), dpi=(dpi, dpi))\n",
    "\n",
    "def generate_multifractal_from_FDs (list_FDs, images, n, op = 'sub', contrast = 'pre', contrast_apply = True, dpi=200, seed=0):\n",
    "    from scipy import fftpack\n",
    "    FDs_total = []\n",
    "    for i, fd in enumerate(list_FDs):\n",
    "        low_bound = list_FDs[i]-0.1\n",
    "        high_bound = list_FDs[i]+0.1\n",
    "        FD = generate_controlled_FD(images, low_bound, high_bound)\n",
    "        FD_cut = FD[:n]\n",
    "        FDs_total.append(FD_cut)\n",
    "    FDs_total = np.array(FDs_total) ###array of type FD_value*n*Xpixels*Ypixels\n",
    "    print(FDs_total.shape)\n",
    "    for i, fd in enumerate(list_FDs):\n",
    "        im = FDs_total[i][seed]\n",
    "        for j, fd2 in enumerate(list_FDs):\n",
    "            for iteration in range(len(FDs_total[0])):\n",
    "                if j != i:\n",
    "                    im2 = FDs_total[j][iteration]\n",
    "                    if contrast == 'pre':\n",
    "                        im = comp_contrast(im)\n",
    "                        im2 = comp_contrast(im2)\n",
    "                    if op == 'fft_add':\n",
    "                        im_fft = fftpack.fft2(im)\n",
    "                        im_fft2 = fftpack.fft2(im2)\n",
    "                        im_fft_new = (im_fft+im_fft2)\n",
    "                        im_mf = fftpack.ifft2(im_fft_new).real\n",
    "                    if op == 'fft_sub':\n",
    "                        im_fft = fftpack.fft2(im)\n",
    "                        im_fft2 = fftpack.fft2(im2)\n",
    "                        im_fft_new = (im_fft-im_fft2)\n",
    "                        im_mf = fftpack.ifft2(im_fft_new).real\n",
    "                    if op == 'fft_avg':\n",
    "                        im_fft = fftpack.fft2(im)\n",
    "                        im_fft2 = fftpack.fft2(im2)\n",
    "                        im_fft_new = (im_fft+im_fft2)/2\n",
    "                        im_mf = fftpack.ifft2(im_fft_new).real\n",
    "                    if op == 'fft_avg_contrast':\n",
    "                        im_fft = fftpack.fft2(im)\n",
    "                        im_fft2 = fftpack.fft2(im2)\n",
    "                        im_fft_new = (im_fft+im_fft2)/2\n",
    "                        im_mf = fftpack.ifft2(im_fft_new).real\n",
    "                        im_mf = comp_contrast(im_mf)\n",
    "                    if op == 'fft_sub_contrast':\n",
    "                        im_fft = fftpack.fft2(im)\n",
    "                        im_fft2 = fftpack.fft2(im2)\n",
    "                        im_fft_new = (im_fft-im_fft2)\n",
    "                        im_mf = fftpack.ifft2(im_fft_new).real\n",
    "                        im_mf = comp_contrast(im_mf)\n",
    "                    if contrast == 'post':\n",
    "                            im_mf = comp_contrast(im_mf)\n",
    "                    print(np.mean(im_mf))\n",
    "                    im_mf = Image.fromarray(im_mf)\n",
    "                    im_mf = im_mf.convert(\"L\")\n",
    "                    if not os.path.isdir('FD_multi-'+op):\n",
    "                        os.mkdir('FD_multi-'+op)\n",
    "                    im_mf.save(\"FD_multi-{}/frac_multi_contrast_mean_{}-{}-n{}.jpeg\".format(op, fd, fd2, iteration), dpi=(dpi, dpi))\n",
    "    return FDs_total\n",
    "\n",
    "def fractal_dimension(Z, threshold=0.9):\n",
    "    # Only for 2d image\n",
    "    assert(len(Z.shape) == 2)\n",
    "\n",
    "    # From https://github.com/rougier/numpy-100 (#87)\n",
    "    def boxcount(Z, k):\n",
    "        S = np.add.reduceat(\n",
    "            np.add.reduceat(Z, np.arange(0, Z.shape[0], k), axis=0),\n",
    "                               np.arange(0, Z.shape[1], k), axis=1)\n",
    "\n",
    "        # We count non-empty (0) and non-full boxes (k*k)\n",
    "        return len(np.where((S > 0) & (S < k*k))[0])\n",
    "\n",
    "    # Transform Z into a binary array\n",
    "    Z = (Z < threshold)\n",
    "\n",
    "    # Minimal dimension of image\n",
    "    p = min(Z.shape)\n",
    "\n",
    "    # Greatest power of 2 less than or equal to p\n",
    "    n = 2**np.floor(np.log(p)/np.log(2))\n",
    "\n",
    "    # Extract the exponent\n",
    "    n = int(np.log(n)/np.log(2))\n",
    "\n",
    "    # Build successive box sizes (from 2**n down to 2**1)\n",
    "    sizes = 2**np.arange(n, 1, -1)\n",
    "\n",
    "    # Actual box counting with decreasing size\n",
    "    counts = []\n",
    "    for size in sizes:\n",
    "        counts.append(boxcount(Z, size))\n",
    "\n",
    "    # Fit the successive log(sizes) with log (counts)\n",
    "    coeffs = np.polyfit(np.log(sizes), np.log(counts), 1)\n",
    "    return -coeffs[0]\n",
    "\n",
    "#I =rgb2gray(pl.imread(\"DSC00843.JPG\"))\n",
    "#I = np.where(I==0, 1, I)\n",
    "#print(\"Minkowski–Bouligand dimension (computed): \", fractal_dimension(fd_images[0][1]))\n",
    "\n",
    "def generate_batch_multifractal (size, steps, min, max, n_iter = 1, op = 'sub', contrast = 'pre', contrast_apply = True):\n",
    "    from scipy import fftpack\n",
    "    #list(itertools.combinations(range(6), 2))\n",
    "    list_p = list(range(1, steps, 1))\n",
    "    list_p = np.array(list_p)\n",
    "    list_p = list(np.interp(list_p, (list_p.min(), list_p.max()), (min, max)))\n",
    "    list_p = [np.round(i, 2) for i in list_p] \n",
    "    pair_lists = [(list_p[i],list_p[j]) for i in range(len(list_p)) for j in range(i+1, len(list_p))]\n",
    "    list_n = list(range(1, n_iter, 1))\n",
    "    for n in list_n:\n",
    "        for pair in pair_lists:\n",
    "            print(pair[0], pair[1])\n",
    "            im = fractal_generator(pair[0], size)\n",
    "            im2 = fractal_generator(pair[1], size)\n",
    "            im = (255*(im - np.min(im))/np.ptp(im)).astype('uint8')\n",
    "            im2 = (255*(im2 - np.min(im2))/np.ptp(im2)).astype('uint8')\n",
    "            if contrast == 'pre':\n",
    "                im = comp_contrast(im)\n",
    "                im2 = comp_contrast(im2)\n",
    "            if op == 'sub':\n",
    "                im_mf = im-im2\n",
    "            if op == 'add':\n",
    "                im_mf = im+im2\n",
    "            if op == 'avg':\n",
    "                im_mf = (im+im2)/2\n",
    "                im_mf = comp_contrast(im_mf)\n",
    "            if op == 'fft_add':\n",
    "                im_fft = fftpack.fft2(im)\n",
    "                im_fft2 = fftpack.fft2(im2)\n",
    "                im_fft_new = (im_fft+im_fft2)\n",
    "                im_mf = fftpack.ifft2(im_fft_new).real\n",
    "            if op == 'fft_sub':\n",
    "                im_fft = fftpack.fft2(im)\n",
    "                im_fft2 = fftpack.fft2(im2)\n",
    "                im_fft_new = (im_fft-im_fft2)\n",
    "                im_mf = fftpack.ifft2(im_fft_new).real\n",
    "            if op == 'fft_avg':\n",
    "                im_fft = fftpack.fft2(im)\n",
    "                im_fft2 = fftpack.fft2(im2)\n",
    "                im_fft_new = (im_fft+im_fft2)/2\n",
    "                im_mf = fftpack.ifft2(im_fft_new).real\n",
    "            if op == 'fft_avg_contrast':\n",
    "                im_fft = fftpack.fft2(im)\n",
    "                im_fft2 = fftpack.fft2(im2)\n",
    "                im_fft_new = (im_fft+im_fft2)/2\n",
    "                im_mf = fftpack.ifft2(im_fft_new).real\n",
    "                im_mf = comp_contrast(im_mf)\n",
    "            if op == 'fft_sub_contrast':\n",
    "                im_fft = fftpack.fft2(im)\n",
    "                im_fft2 = fftpack.fft2(im2)\n",
    "                im_fft_new = (im_fft-im_fft2)\n",
    "                im_mf = fftpack.ifft2(im_fft_new).real\n",
    "                im_mf = comp_contrast(im_mf)\n",
    "            if op == 'fft_funk_contrast':\n",
    "                im_fft = fftpack.fft2(im)\n",
    "                im_fft2 = fftpack.fft2(im2)\n",
    "                im_fft_new = (im_fft-im_fft2)+(im_fft2-im_fft)\n",
    "                im_mf = fftpack.ifft2(im_fft_new).real\n",
    "                im_mf = comp_contrast(im_mf)\n",
    "            if contrast == 'post':\n",
    "                    im_mf = comp_contrast(im_mf)\n",
    "            im_mf = Image.fromarray(im_mf)\n",
    "            im_mf = im_mf.convert(\"L\")\n",
    "            if not os.path.isdir(contrast+'-'+op+'-'+str(n_iter)):\n",
    "                os.mkdir(contrast+'-'+op+'-'+str(n_iter))\n",
    "            im_mf.save(\"{}-{}-{}/frac_test3_{}-{}-{}- n{}.jpeg\".format(contrast, op, n_iter, pair[0], op, pair[1], n), dpi=(dpi, dpi))\n",
    "            \n",
    "                "
   ]
  },
  {
   "cell_type": "code",
   "execution_count": null,
   "metadata": {},
   "outputs": [],
   "source": []
  },
  {
   "cell_type": "code",
   "execution_count": null,
   "metadata": {},
   "outputs": [],
   "source": [
    "list_FDs = [1.2, 1.5,1.6, 1.7, 1.8]\n",
    "FDs_test = generate_controlled_FD_multi(images, list_FDs, 10)"
   ]
  },
  {
   "cell_type": "code",
   "execution_count": null,
   "metadata": {},
   "outputs": [],
   "source": []
  },
  {
   "cell_type": "code",
   "execution_count": null,
   "metadata": {},
   "outputs": [],
   "source": []
  },
  {
   "cell_type": "code",
   "execution_count": null,
   "metadata": {},
   "outputs": [],
   "source": [
    "list_FDs = [1.2, 1.3, 1.4, 1.5, 1.6, 1.7, 1.8, 1.9]\n",
    "generate_multifractal_from_FDs(list_FDs, images, 10, op = 'fft_sub', contrast = 'post', seed=2)"
   ]
  },
  {
   "cell_type": "code",
   "execution_count": null,
   "metadata": {},
   "outputs": [],
   "source": [
    "list_FDs = [1.2, 1.3, 1.4, 1.5, 1.6, 1.7, 1.8, 1.9]\n",
    "save_controlled_FD(images, list_FDs)"
   ]
  },
  {
   "cell_type": "code",
   "execution_count": null,
   "metadata": {},
   "outputs": [],
   "source": []
  },
  {
   "cell_type": "code",
   "execution_count": null,
   "metadata": {},
   "outputs": [],
   "source": []
  },
  {
   "cell_type": "code",
   "execution_count": null,
   "metadata": {},
   "outputs": [],
   "source": []
  },
  {
   "cell_type": "code",
   "execution_count": null,
   "metadata": {},
   "outputs": [],
   "source": [
    "import random\n",
    "for i in range(len(all_FDs)):\n",
    "    random.shuffle(all_FDs[i])"
   ]
  },
  {
   "cell_type": "code",
   "execution_count": null,
   "metadata": {},
   "outputs": [],
   "source": []
  },
  {
   "cell_type": "code",
   "execution_count": null,
   "metadata": {},
   "outputs": [],
   "source": [
    "plt.imshow(all_FDs[2][12])"
   ]
  },
  {
   "cell_type": "code",
   "execution_count": null,
   "metadata": {},
   "outputs": [],
   "source": []
  },
  {
   "cell_type": "code",
   "execution_count": null,
   "metadata": {},
   "outputs": [],
   "source": []
  },
  {
   "cell_type": "code",
   "execution_count": null,
   "metadata": {},
   "outputs": [],
   "source": []
  },
  {
   "cell_type": "code",
   "execution_count": null,
   "metadata": {},
   "outputs": [],
   "source": [
    "##Transfert function##\n",
    "from scipy import signal\n",
    "num = [1, 2, 3]\n",
    "den = [1, 2, 1]\n",
    "signal.TransferFunction(num, den)"
   ]
  },
  {
   "cell_type": "code",
   "execution_count": null,
   "metadata": {},
   "outputs": [],
   "source": []
  },
  {
   "cell_type": "code",
   "execution_count": null,
   "metadata": {},
   "outputs": [],
   "source": []
  },
  {
   "cell_type": "code",
   "execution_count": null,
   "metadata": {},
   "outputs": [],
   "source": [
    "##Evaluate relation between persistence and FD\n",
    "FD_from_pers = []\n",
    "for i in range(len(images[0])):\n",
    "    FD_from_pers.append(fractal_dimension(images[3][i]))\n",
    "FD_from_pers"
   ]
  },
  {
   "cell_type": "code",
   "execution_count": null,
   "metadata": {},
   "outputs": [],
   "source": [
    "size=512\n",
    "images, list_p = generate_batch_monofractal(size=size, steps=2, min_p=0.25, max_p=0.95, n=1, save = False)"
   ]
  },
  {
   "cell_type": "code",
   "execution_count": null,
   "metadata": {},
   "outputs": [],
   "source": []
  },
  {
   "cell_type": "code",
   "execution_count": null,
   "metadata": {},
   "outputs": [],
   "source": []
  },
  {
   "cell_type": "code",
   "execution_count": null,
   "metadata": {},
   "outputs": [],
   "source": []
  },
  {
   "cell_type": "code",
   "execution_count": null,
   "metadata": {},
   "outputs": [],
   "source": []
  },
  {
   "cell_type": "code",
   "execution_count": null,
   "metadata": {},
   "outputs": [],
   "source": []
  },
  {
   "cell_type": "code",
   "execution_count": null,
   "metadata": {},
   "outputs": [],
   "source": []
  },
  {
   "cell_type": "code",
   "execution_count": null,
   "metadata": {},
   "outputs": [],
   "source": [
    "im_in\n",
    "triangles"
   ]
  },
  {
   "cell_type": "code",
   "execution_count": null,
   "metadata": {},
   "outputs": [],
   "source": []
  },
  {
   "cell_type": "code",
   "execution_count": null,
   "metadata": {},
   "outputs": [],
   "source": []
  },
  {
   "cell_type": "code",
   "execution_count": null,
   "metadata": {},
   "outputs": [],
   "source": []
  },
  {
   "cell_type": "code",
   "execution_count": null,
   "metadata": {},
   "outputs": [],
   "source": []
  },
  {
   "cell_type": "code",
   "execution_count": null,
   "metadata": {},
   "outputs": [],
   "source": []
  },
  {
   "cell_type": "code",
   "execution_count": null,
   "metadata": {},
   "outputs": [],
   "source": [
    "print('Mean:', np.mean(FD_from_pers), 'Std:', np.std(FD_from_pers))\n"
   ]
  },
  {
   "cell_type": "code",
   "execution_count": null,
   "metadata": {},
   "outputs": [],
   "source": [
    "import seaborn as sbn\n",
    "sbn.distplot(FD_from_pers, bins = 50)"
   ]
  },
  {
   "cell_type": "code",
   "execution_count": null,
   "metadata": {},
   "outputs": [],
   "source": []
  },
  {
   "cell_type": "code",
   "execution_count": null,
   "metadata": {},
   "outputs": [],
   "source": [
    "#####FRACTAL CURVES#####\n",
    "curve = 'decrease'\n",
    "n_images = 15\n",
    "min_fd = 1.2\n",
    "max_fd = 1.9\n",
    "dpi = 300\n",
    "mono_fractal=False"
   ]
  },
  {
   "cell_type": "code",
   "execution_count": null,
   "metadata": {},
   "outputs": [],
   "source": [
    "list_FDs = np.arange(min_fd, max_fd, 0.05)\n",
    "all_FDs = generate_controlled_FD_multi(images_new, list_FDs, n=n_images)"
   ]
  },
  {
   "cell_type": "code",
   "execution_count": null,
   "metadata": {},
   "outputs": [],
   "source": [
    "\n",
    "list_FDs = np.arange(min_fd, max_fd, 0.05)\n",
    "#all_FDs = generate_controlled_FD_multi(images, list_FDs, n=n_images) #Takes one image for each of the FD steps to generate the curve\n",
    "#### Generates three options of fractal spectrums (linear, increasing, decreasing)\n",
    "line = 100/len(list_FDs)\n",
    "inc = (line/len(list_FDs))*0.5\n",
    "low = line-((len(list_FDs)/2)*inc)\n",
    "high= line+((len(list_FDs)/2)*inc)\n",
    "if curve == 'flat':\n",
    "    curve_shape = [line for i in range(len(list_FDs))]\n",
    "if curve == 'increase':\n",
    "    curve_shape = np.arange(low, high, (high-low)/len(list_FDs))\n",
    "if curve == 'decrease':\n",
    "    curve_temp = np.arange(low, high, (high-low)/len(list_FDs))\n",
    "    curve_shape = curve_temp[::-1]\n",
    "\n",
    "###Generate multiple fractal images###\n",
    "from scipy import fftpack\n",
    "if mono_fractal !=True:\n",
    "    all_FDs = np.transpose(all_FDs, (1, 0, 2, 3))\n",
    "for batch in range(len(all_FDs)):\n",
    "    list_fft = []\n",
    "    for e, fd in enumerate(all_FDs[batch]):\n",
    "        print(fractal_dimension(all_FDs[batch][e]))\n",
    "        list_fft.append(fftpack.fft2(all_FDs[batch][e]))\n",
    "    list_fft = np.array(list_fft)\n",
    "    for i in range(len(list_fft)-1):\n",
    "        list_fft[i]=(list_fft[i]*curve_shape[i])\n",
    "    final_fft = list_fft[0]\n",
    "    for i in range(len(list_fft)-1):\n",
    "        final_fft = (final_fft-list_fft[i+1])\n",
    "    im_mf = fftpack.ifft2(final_fft).real\n",
    "    im_mf = np.interp(im_mf, (im_mf.min(), im_mf.max()), (0, 255))\n",
    "    im_mf = comp_contrast_mean(im_mf)\n",
    "    im_mf = Image.fromarray(im_mf)\n",
    "    im_mf = im_mf.convert(\"L\")\n",
    "    if not os.path.isdir('frac_curve_'+str(n_images)+'_'+str(min_fd)+'_'+str(max_fd)+'_'+curve):\n",
    "        os.mkdir('frac_curve_'+str(n_images)+'_'+str(min_fd)+'_'+str(max_fd)+'_'+curve)\n",
    "    im_mf.save(\"frac_curve_{}_{}_{}_{}/frac_curve_{}-{}-n{}.jpeg\".format(n_images, min_fd, max_fd, curve, min_fd, max_fd, batch), dpi=(dpi, dpi))\n"
   ]
  },
  {
   "cell_type": "code",
   "execution_count": null,
   "metadata": {},
   "outputs": [],
   "source": [
    "print(fractal_dimension(all_FDs[6][14]))"
   ]
  },
  {
   "cell_type": "code",
   "execution_count": null,
   "metadata": {},
   "outputs": [],
   "source": [
    "all_FDs = all_FDs.reshape(14,10,512,512)"
   ]
  },
  {
   "cell_type": "code",
   "execution_count": null,
   "metadata": {},
   "outputs": [],
   "source": [
    "plt.imshow(all_FDs[12][1])"
   ]
  },
  {
   "cell_type": "code",
   "execution_count": null,
   "metadata": {},
   "outputs": [],
   "source": [
    "#mu, sigma = 1.5, 0.3 # mean and standard deviation\n",
    "#s = np.random.normal(mu, sigma, 10)\n"
   ]
  },
  {
   "cell_type": "code",
   "execution_count": null,
   "metadata": {},
   "outputs": [],
   "source": []
  },
  {
   "cell_type": "code",
   "execution_count": null,
   "metadata": {},
   "outputs": [],
   "source": []
  },
  {
   "cell_type": "code",
   "execution_count": null,
   "metadata": {},
   "outputs": [],
   "source": []
  },
  {
   "cell_type": "code",
   "execution_count": null,
   "metadata": {},
   "outputs": [],
   "source": [
    "im = comp_contrast_mean(im, [0, 255])\n",
    "plt.imshow(im)"
   ]
  },
  {
   "cell_type": "code",
   "execution_count": null,
   "metadata": {},
   "outputs": [],
   "source": [
    "im = fractal_generator(0.4, 512)\n",
    "im2 = fractal_generator(0.5, 512)\n",
    "im3 = fractal_generator(0.6, 512)\n",
    "im4 = fractal_generator(0.9, 512)\n"
   ]
  },
  {
   "cell_type": "code",
   "execution_count": null,
   "metadata": {},
   "outputs": [],
   "source": [
    "from scipy import fftpack\n",
    "im_fft = fftpack.fft2(im)\n",
    "im_fft2 = fftpack.fft2(im2)\n",
    "im_fft3 = fftpack.fft2(im3)\n",
    "im_fft4 = fftpack.fft2(im4)"
   ]
  },
  {
   "cell_type": "code",
   "execution_count": null,
   "metadata": {},
   "outputs": [],
   "source": [
    "\n",
    "im_fft_new = (im_fft*10-im_fft2*10-im_fft3*10-im_fft4*10)\n",
    "im_mf = fftpack.ifft2(im_fft_new).real\n",
    "\n",
    "#im_mf = np.interp(im_mf, (im_mf.min(), im_mf.max()), (0, 255))\n",
    "im_mf = comp_contrast_mean(im_mf)\n",
    "im_mf = Image.fromarray(im_mf)\n",
    "im_mf = im_mf.convert(\"L\")\n",
    "im_mf"
   ]
  },
  {
   "cell_type": "code",
   "execution_count": null,
   "metadata": {},
   "outputs": [],
   "source": [
    "def fractal_spectrum(list_image, curve):\n",
    "    mu, sigma = 0.6, 0.15 # mean and standard deviation of persistence of FD\n",
    "    s = np.random.normal(mu, sigma, len(list_image))\n",
    "    i = 0\n",
    "    new_image = empty image\n",
    "    while i < list_image: \n",
    "        \n",
    "        new_image = (new_image+list_image[i])/2\n",
    "        i =+1"
   ]
  },
  {
   "cell_type": "code",
   "execution_count": null,
   "metadata": {},
   "outputs": [],
   "source": []
  },
  {
   "cell_type": "code",
   "execution_count": null,
   "metadata": {},
   "outputs": [],
   "source": []
  },
  {
   "cell_type": "code",
   "execution_count": null,
   "metadata": {},
   "outputs": [],
   "source": [
    "list_op = ['fft_sub_contrast', 'fft_funk_contrast']\n",
    "dpi = 200\n",
    "for i in list_op:\n",
    "    generate_batch_multifractal(512, 12, 0.4, 0.9, n_iter =15, op = i, contrast = 'pre', contrast_apply = True)"
   ]
  },
  {
   "cell_type": "code",
   "execution_count": null,
   "metadata": {},
   "outputs": [],
   "source": []
  },
  {
   "cell_type": "code",
   "execution_count": null,
   "metadata": {},
   "outputs": [],
   "source": [
    "test = comp_contrast(im)"
   ]
  },
  {
   "cell_type": "code",
   "execution_count": null,
   "metadata": {},
   "outputs": [],
   "source": [
    "size = 1024\n",
    "im2x = fractal_generator(0.1, size)\n",
    "imx = fractal_generator(0.2, size)\n",
    "im4x = fractal_generator(0.7, size)\n",
    "im3x = fractal_generator(0.9, size)\n",
    "im2x = (255*(im2x - np.min(im2x))/np.ptp(im2x)).astype('uint8')\n",
    "imx = (255*(imx - np.min(imx))/np.ptp(imx)).astype('uint8')\n",
    "im4x = (255*(im4x - np.min(im4x))/np.ptp(im4x)).astype('uint8')\n",
    "im3x = (255*(im3x - np.min(im3x))/np.ptp(im3x)).astype('uint8')"
   ]
  },
  {
   "cell_type": "code",
   "execution_count": null,
   "metadata": {},
   "outputs": [],
   "source": [
    "size = 4096\n",
    "im2x = fractal_generator(0.4, size)"
   ]
  },
  {
   "cell_type": "code",
   "execution_count": null,
   "metadata": {},
   "outputs": [],
   "source": [
    "import seaborn as sbn\n",
    "from scipy import fftpack\n",
    "from matplotlib.colors import LogNorm\n",
    "#plt.imshow(im2x)\n",
    "\n",
    "im_fft = fftpack.fft2(contrast(im2x))\n",
    "im_fft2 = fftpack.fft2(im4x)\n",
    "#plt.imshow(im_fft.real, norm=LogNorm(vmin=5))\n",
    "im_fft_new = (im_fft+im_fft2)/2\n",
    "im_new = fftpack.ifft2(im_fft_new).real\n",
    "plt.imshow(im_new,cmap='gray')"
   ]
  },
  {
   "cell_type": "code",
   "execution_count": null,
   "metadata": {},
   "outputs": [],
   "source": [
    "im_test = (contrast(im4x)-contrast(im2x))\n",
    "plt.imshow(im_test, cmap = 'gray')"
   ]
  },
  {
   "cell_type": "code",
   "execution_count": null,
   "metadata": {},
   "outputs": [],
   "source": [
    "im_test\n",
    "im_test.save(\"frac_test.jpeg\", dpi = (dpi, dpi))"
   ]
  },
  {
   "cell_type": "code",
   "execution_count": null,
   "metadata": {},
   "outputs": [],
   "source": []
  },
  {
   "cell_type": "code",
   "execution_count": null,
   "metadata": {},
   "outputs": [],
   "source": [
    "from PIL import Image\n",
    "dpi=300\n",
    "im_test = Image.fromarray(im_test)\n",
    "im_test.save(\"frac_test.jpeg\", dpi=200)"
   ]
  },
  {
   "cell_type": "code",
   "execution_count": null,
   "metadata": {},
   "outputs": [],
   "source": [
    "#im = Image.open('frac1.jpeg')\n",
    "#im2 = Image.open('frac2.jpeg')\n",
    "#im3 = Image.open('out02.png')\n",
    "#im4 = Image.open('test04.png')\n",
    "imx = np.array(im)\n",
    "im2x = np.array(im2)\n",
    "im3x = np.array(im3)\n",
    "im4x = np.array(im4)"
   ]
  },
  {
   "cell_type": "code",
   "execution_count": null,
   "metadata": {},
   "outputs": [],
   "source": [
    "list_dd = [imx, im2x, im3x, im4x]"
   ]
  },
  {
   "cell_type": "code",
   "execution_count": null,
   "metadata": {},
   "outputs": [],
   "source": [
    "im_RGB.shape"
   ]
  },
  {
   "cell_type": "code",
   "execution_count": null,
   "metadata": {},
   "outputs": [],
   "source": [
    "im2x"
   ]
  },
  {
   "cell_type": "code",
   "execution_count": null,
   "metadata": {},
   "outputs": [],
   "source": [
    "#imx = comp_contrast_mean(imx, [0, 255])\n",
    "#im2x = comp_contrast_mean(im2x, [0, 255])\n",
    "#im3x = comp_contrast_mean(im3, [0,255])\n",
    "#im4x = comp_contrast_mean(im4,[0, 255])\n",
    "h = im3x-imx*16-im4x-im3x\n",
    "s = imx-im2x*4-im3x-im4x-imx*40\n",
    "v = im4x+im3x-im2x\n",
    "\n",
    "\n",
    "im_RGB = np.stack((h, s, v), axis=2)\n",
    "img = Image.fromarray(im_RGB, mode='HSV')\n",
    "new_p = img.convert('RGB')\n",
    "plt.imshow(new_p)\n",
    "new_p.save('cresso2.png')"
   ]
  },
  {
   "cell_type": "code",
   "execution_count": null,
   "metadata": {},
   "outputs": [],
   "source": [
    "\n",
    "\n",
    "\n",
    "#imB = rgb2gray(imx)\n",
    "#im2B = rgb2gray(im2x)\n",
    "#sat = np.random.rand(1024, 1024)\n",
    "#hue = np.full((1024, 1024), 0.05)\n",
    "#imarray = np.array(image)\n",
    "#imarray2 = np.array(image2)\n",
    "\n",
    "h = im3x+im2x-imx\n",
    "s = im3x-im2x\n",
    "v = im3x-im2x+imx\n",
    "\n",
    "\n",
    "im_RGB = np.stack((h, s, v), axis=2)\n",
    "im_RGB2 = np.stack((im3x, im2x-imx, imx), axis=2)\n",
    "im_RGB3 = np.stack((im3x+(im4x*2-im2x), im2x*2, imx+im4x+im3x), axis=2)\n",
    "im_RGB4 = np.stack((im3x-imx*im2x, im4x*2-imx*2, im4x-im3x-im2x*2), axis=2)\n",
    "im_RGB5 = np.stack((im3x-imx+(im3x*4), im2x*2-imx-im2x, im2x.T+ im4x*2), axis=2)\n",
    "im_RGB6 = np.stack((im3x-imx+im2x*2, im2x*2-imx-im4x, im4x-imx), axis=2)\n",
    "#im_RGB.shape\n",
    "img2 = Image.fromarray(im_RGB, mode='HSV')\n",
    "img3 = Image.fromarray(im_RGB2, mode='HSV')\n",
    "img4 = Image.fromarray(im_RGB3, mode='HSV')\n",
    "img5 = Image.fromarray(im_RGB4, mode='HSV')\n",
    "img6 = Image.fromarray(im_RGB5, mode='HSV')\n",
    "img7 = Image.fromarray(im_RGB6, mode='HSV')\n",
    "new_p = img2.convert('RGB')\n",
    "new_p2 = img3.convert('RGB')\n",
    "new_p3 = img4.convert('RGB')\n",
    "new_p4 = img5.convert('RGB')\n",
    "new_p5 = img6.convert('RGB')\n",
    "new_p6 = img7.convert('RGB')\n",
    "\n",
    "new_p = np.array(new_p)\n",
    "new_p2 = np.array(new_p2)\n",
    "new_p3 = np.array(new_p3)\n",
    "new_p4 = np.array(new_p4)\n",
    "new_p5 = np.array(new_p5)\n",
    "new_p6 = np.array(new_p6)\n",
    "list_image = [new_p, new_p2, new_p3, new_p4, new_p5, new_p6]"
   ]
  },
  {
   "cell_type": "code",
   "execution_count": null,
   "metadata": {},
   "outputs": [],
   "source": [
    "#median filter\n",
    "\n",
    "new_px = cv2.medianBlur(new_p,3)\n",
    "plt.imshow(new_px)"
   ]
  },
  {
   "cell_type": "code",
   "execution_count": null,
   "metadata": {},
   "outputs": [],
   "source": [
    "plt.imshow(new_p4)"
   ]
  },
  {
   "cell_type": "code",
   "execution_count": null,
   "metadata": {},
   "outputs": [],
   "source": []
  },
  {
   "cell_type": "code",
   "execution_count": null,
   "metadata": {},
   "outputs": [],
   "source": [
    "dpi=300\n",
    "new_p.save(\"fract.jpeg\", dpi=dpi)"
   ]
  },
  {
   "cell_type": "code",
   "execution_count": null,
   "metadata": {},
   "outputs": [],
   "source": [
    "Interpol = InterpolMulti(1280, images, 30, direction = 0)\n",
    "test_final = Interpol.astype('uint8')"
   ]
  },
  {
   "cell_type": "code",
   "execution_count": null,
   "metadata": {},
   "outputs": [],
   "source": [
    "test_final.shape"
   ]
  },
  {
   "cell_type": "code",
   "execution_count": null,
   "metadata": {},
   "outputs": [],
   "source": []
  },
  {
   "cell_type": "code",
   "execution_count": null,
   "metadata": {},
   "outputs": [],
   "source": [
    "new_p = np.array(new_p)\n",
    "new_p2 = np.array(new_p2)\n",
    "test = Interpol(new_p, new_p2, 50, direction = 0)\n",
    "test_final = np.array(test)\n",
    "test_final = test_final.astype('uint8')"
   ]
  },
  {
   "cell_type": "code",
   "execution_count": null,
   "metadata": {},
   "outputs": [],
   "source": [
    "\n",
    "#test_final = Image.fromarray(test_final[19], 'RGB')\n",
    "#test_final"
   ]
  },
  {
   "cell_type": "code",
   "execution_count": null,
   "metadata": {},
   "outputs": [],
   "source": []
  },
  {
   "cell_type": "code",
   "execution_count": null,
   "metadata": {
    "scrolled": true
   },
   "outputs": [],
   "source": [
    "plt.imshow(test_final[10])"
   ]
  },
  {
   "cell_type": "code",
   "execution_count": null,
   "metadata": {},
   "outputs": [],
   "source": []
  },
  {
   "cell_type": "code",
   "execution_count": null,
   "metadata": {},
   "outputs": [],
   "source": []
  },
  {
   "cell_type": "code",
   "execution_count": null,
   "metadata": {},
   "outputs": [],
   "source": [
    "fig = plt.figure()\n",
    "fig.set_size_inches(10, 10, True)\n",
    "img = create_anim(test_final)\n",
    "\n",
    "ani = animation.ArtistAnimation(fig, img, interval=120, blit=True,\n",
    "                                    repeat_delay=None, repeat=False)\n",
    "\n",
    "dpi = 128\n",
    "writer = animation.writers['ffmpeg'](fps=20)\n",
    "ani.save('test_dd_02.mp4',writer=writer,dpi=dpi)\n",
    "#ani.save((\"movie.mp4\"), fps=18)#, writer='imagemagick', fps=20)\n",
    "plt.show()"
   ]
  },
  {
   "cell_type": "code",
   "execution_count": null,
   "metadata": {},
   "outputs": [],
   "source": []
  },
  {
   "cell_type": "code",
   "execution_count": null,
   "metadata": {},
   "outputs": [],
   "source": [
    "choice = ['-', '+', '*']"
   ]
  },
  {
   "cell_type": "code",
   "execution_count": null,
   "metadata": {
    "colab": {},
    "colab_type": "code",
    "id": "wZv02CbWTEwG"
   },
   "outputs": [],
   "source": [
    "im_test.save(\"mani47.jpeg\")"
   ]
  },
  {
   "cell_type": "code",
   "execution_count": null,
   "metadata": {
    "colab": {
     "base_uri": "https://localhost:8080/",
     "height": 1041,
     "output_embedded_package_id": "1-JyipgusSYuMDaz_2DUtCglNbbO_Xd5j"
    },
    "colab_type": "code",
    "executionInfo": {
     "elapsed": 3258,
     "status": "ok",
     "timestamp": 1556509011550,
     "user": {
      "displayName": "Antoine Bellemare",
      "photoUrl": "",
      "userId": "13646224134954443543"
     },
     "user_tz": 240
    },
    "id": "OaKBsfvETxi5",
    "outputId": "eb515fd3-f35d-4a25-8b34-b52a27ec171b"
   },
   "outputs": [],
   "source": [
    "im4 = np.array(im4)\n",
    "fractal_dimension(im4)"
   ]
  },
  {
   "cell_type": "code",
   "execution_count": null,
   "metadata": {
    "colab": {},
    "colab_type": "code",
    "id": "xk4aPPOXP-UV"
   },
   "outputs": [],
   "source": [
    "im2 = Image.open('D1.3_test.tif')\n",
    "im3 = Image.open('D1.8_test.tif')\n",
    "im4 = Image.open('D2.1_test.tif')"
   ]
  },
  {
   "cell_type": "code",
   "execution_count": null,
   "metadata": {},
   "outputs": [],
   "source": [
    "# -----------------------------------------------------------------------------\n",
    "# From https://en.wikipedia.org/wiki/Minkowski–Bouligand_dimension:\n",
    "#\n",
    "# In fractal geometry, the Minkowski–Bouligand dimension, also known as\n",
    "# Minkowski dimension or box-counting dimension, is a way of determining the\n",
    "# fractal dimension of a set S in a Euclidean space Rn, or more generally in a\n",
    "# metric space (X, d).\n",
    "# -----------------------------------------------------------------------------\n",
    "import scipy.misc\n",
    "import numpy as np\n",
    "\n",
    "\n",
    "def fractal_dimension(Z, threshold=0.9):\n",
    "\n",
    "    # Only for 2d image\n",
    "    assert(len(Z.shape) == 2)\n",
    "\n",
    "    # From https://github.com/rougier/numpy-100 (#87)\n",
    "    def boxcount(Z, k):\n",
    "        S = np.add.reduceat(\n",
    "            np.add.reduceat(Z, np.arange(0, Z.shape[0], k), axis=0),\n",
    "                               np.arange(0, Z.shape[1], k), axis=1)\n",
    "\n",
    "        # We count non-empty (0) and non-full boxes (k*k)\n",
    "        return len(np.where((S > 0) & (S < k*k))[0])\n",
    "\n",
    "\n",
    "    # Transform Z into a binary array\n",
    "    Z = (Z < threshold)\n",
    "\n",
    "    # Minimal dimension of image\n",
    "    p = min(Z.shape)\n",
    "\n",
    "    # Greatest power of 2 less than or equal to p\n",
    "    n = 2**np.floor(np.log(p)/np.log(2))\n",
    "\n",
    "    # Extract the exponent\n",
    "    n = int(np.log(n)/np.log(2))\n",
    "\n",
    "    # Build successive box sizes (from 2**n down to 2**1)\n",
    "    sizes = 2**np.arange(n, 1, -1)\n",
    "\n",
    "    # Actual box counting with decreasing size\n",
    "    counts = []\n",
    "    for size in sizes:\n",
    "        counts.append(boxcount(Z, size))\n",
    "\n",
    "    # Fit the successive log(sizes) with log (counts)\n",
    "    coeffs = np.polyfit(np.log(sizes), np.log(counts), 1)\n",
    "    return -coeffs[0]\n",
    "\n",
    "#I = scipy.misc.imread(\"sierpinski.png\")/256.0\n",
    "#print(\"Minkowski–Bouligand dimension (computed): \", fractal_dimension(I))\n",
    "#print(\"Haussdorf dimension (theoretical):        \", (np.log(3)/np.log(2)))"
   ]
  }
 ],
 "metadata": {
  "colab": {
   "name": "Copie de Subfraction.ipynb",
   "provenance": [],
   "version": "0.3.2"
  },
  "kernelspec": {
   "display_name": "Python 3",
   "language": "python",
   "name": "python3"
  },
  "language_info": {
   "codemirror_mode": {
    "name": "ipython",
    "version": 3
   },
   "file_extension": ".py",
   "mimetype": "text/x-python",
   "name": "python",
   "nbconvert_exporter": "python",
   "pygments_lexer": "ipython3",
   "version": "3.7.4"
  }
 },
 "nbformat": 4,
 "nbformat_minor": 1
}
