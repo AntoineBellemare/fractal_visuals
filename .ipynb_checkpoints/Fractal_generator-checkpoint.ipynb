{
 "cells": [
  {
   "cell_type": "code",
   "execution_count": 588,
   "metadata": {},
   "outputs": [],
   "source": [
    "import numpy as np\n",
    "import matplotlib.pyplot as plt\n",
    "import PIL\n",
    "from PIL import Image\n",
    "import scipy.misc\n",
    "import imageio\n",
    "import itertools"
   ]
  },
  {
   "cell_type": "markdown",
   "metadata": {},
   "source": [
    "## Functions"
   ]
  },
  {
   "cell_type": "code",
   "execution_count": 683,
   "metadata": {},
   "outputs": [],
   "source": [
    "def generate_perlin_noise_2d(shape, res):\n",
    "    def f(t):\n",
    "        return 6*t**5 - 15*t**4 + 10*t**3\n",
    "    \n",
    "    delta = (res[0] / shape[0], res[1] / shape[1])\n",
    "    d = (shape[0] // res[0], shape[1] // res[1])\n",
    "    grid = np.mgrid[0:res[0]:delta[0],0:res[1]:delta[1]].transpose(1, 2, 0) % 1\n",
    "    # Gradients\n",
    "    angles = 2*np.pi*np.random.rand(res[0]+1, res[1]+1)\n",
    "    gradients = np.dstack((np.cos(angles), np.sin(angles)))\n",
    "    g00 = gradients[0:-1,0:-1].repeat(d[0], 0).repeat(d[1], 1)\n",
    "    g10 = gradients[1:  ,0:-1].repeat(d[0], 0).repeat(d[1], 1)\n",
    "    g01 = gradients[0:-1,1:  ].repeat(d[0], 0).repeat(d[1], 1)\n",
    "    g11 = gradients[1:  ,1:  ].repeat(d[0], 0).repeat(d[1], 1)\n",
    "    # Ramps\n",
    "    n00 = np.sum(np.dstack((grid[:,:,0]  , grid[:,:,1]  )) * g00, 2)\n",
    "    n10 = np.sum(np.dstack((grid[:,:,0]-1, grid[:,:,1]  )) * g10, 2)\n",
    "    n01 = np.sum(np.dstack((grid[:,:,0]  , grid[:,:,1]-1)) * g01, 2)\n",
    "    n11 = np.sum(np.dstack((grid[:,:,0]-1, grid[:,:,1]-1)) * g11, 2)\n",
    "    # Interpolation\n",
    "    t = f(grid)\n",
    "    n0 = n00*(1-t[:,:,0]) + t[:,:,0]*n10\n",
    "    n1 = n01*(1-t[:,:,0]) + t[:,:,0]*n11\n",
    "    return np.sqrt(2)*((1-t[:,:,1])*n0 + t[:,:,1]*n1)\n",
    "        \n",
    "def generate_fractal_noise_2d(shape, res, octaves=1, persistence=0.5):\n",
    "    noise = np.zeros(shape)\n",
    "    frequency = 1\n",
    "    amplitude = 1\n",
    "    for _ in range(octaves):\n",
    "        noise += amplitude * generate_perlin_noise_2d(shape, (frequency*res[0], frequency*res[1]))\n",
    "        frequency *= 2\n",
    "        amplitude *= persistence\n",
    "    return noise\n",
    "\n",
    "\n",
    "\n",
    "def fractal_generator(persistence):\n",
    "    perlin = generate_fractal_noise_2d((256,256), (2,2), octaves=8, persistence=persistence)\n",
    "    #perlin = (perlin)/np.max(np.max(abs(perlin)))\n",
    "    #for i in range(len(perlin)):\n",
    "    #    for j in range(len(perlin)):\n",
    "    #        if perlin[i][j] >= 0:\n",
    "    #            perlin[i][j] = 1\n",
    "    #        elif perlin[i][j] < 0:\n",
    "    #            perlin[i][j] = -1\n",
    "    return perlin\n",
    "\n",
    "def increments (steps, direction = 0):\n",
    "    steps = int(100/steps)\n",
    "    a = range(0,100,steps)\n",
    "    b = [x for x in a]\n",
    "    \n",
    "    if direction == 1:\n",
    "        c = b + [100]\n",
    "        b.reverse()\n",
    "        d = c + b\n",
    "    else:\n",
    "        c = b\n",
    "        d = c\n",
    "    e = [x/100 for x in d]\n",
    "    return e\n",
    "\n",
    "def Interpol(imageA, imageB, steps, direction = 0):\n",
    "    inter_matrix = []\n",
    "    steps = increments(steps, direction)\n",
    "    imageA = Image.fromarray(imageA).convert('L') \n",
    "    imageB = Image.fromarray(imageB).convert('L') \n",
    "    for k in steps:\n",
    "        PIL.Image.blend(imageA, imageB, k)\n",
    "        outImage = np.asarray(imageA) * (1.0 - k) + np.asarray(imageB) * k\n",
    "        inter_matrix.append(outImage)\n",
    "        #final_matrix = np.array(inter_matrix).T\n",
    "    return inter_matrix\n",
    "\n",
    "def contrast(image):    \n",
    "    for i in range(len(image)):\n",
    "        for j in range(len(image)):\n",
    "            if image[i][j] >= 0:\n",
    "                image[i][j] = 1\n",
    "            elif image[i][j] < 0:\n",
    "                image[i][j] = -1\n",
    "    return image"
   ]
  },
  {
   "cell_type": "code",
   "execution_count": 650,
   "metadata": {},
   "outputs": [],
   "source": [
    "image1 = contrast(fractal_generator(0.3))\n",
    "image2 = contrast(fractal_generator(0.5))\n",
    "image3 = contrast(fractal_generator(0.7))\n",
    "image4 = contrast(fractal_generator(0.75))\n",
    "image5 = contrast(fractal_generator(0.85))\n",
    "list_image = [image1, image2, image3, image4, image5]\n"
   ]
  },
  {
   "cell_type": "code",
   "execution_count": null,
   "metadata": {},
   "outputs": [],
   "source": []
  },
  {
   "cell_type": "code",
   "execution_count": 706,
   "metadata": {},
   "outputs": [],
   "source": [
    "size = 256\n",
    "InterpolTemp = np.empty((0, size, size))\n",
    "#InterpolTemp = []\n",
    " \n",
    "for first, second in zip(list_image, list_image[1:]):\n",
    "    InterpolMatrix = Interpol(first, second, 10)\n",
    "    InterpolMatrix = np.array(InterpolMatrix)\n",
    "    InterpolTemp = np.vstack((InterpolTemp, InterpolMatrix))\n",
    "InterpolMulti = np.array(InterpolTemp)"
   ]
  },
  {
   "cell_type": "code",
   "execution_count": 707,
   "metadata": {},
   "outputs": [
    {
     "data": {
      "text/plain": [
       "(40, 256, 256)"
      ]
     },
     "execution_count": 707,
     "metadata": {},
     "output_type": "execute_result"
    }
   ],
   "source": [
    "InterpolMulti.shape"
   ]
  },
  {
   "cell_type": "code",
   "execution_count": 574,
   "metadata": {},
   "outputs": [],
   "source": [
    "\n",
    "#image1 = 2.*(image1 - np.min(image1))/np.ptp(image1)-1\n",
    "#image2 = 2.*(image2 - np.min(image2))/np.ptp(image2)-1\n",
    "InterpolMatrix = Interpol(image1, image2, 10, 1)"
   ]
  },
  {
   "cell_type": "code",
   "execution_count": 504,
   "metadata": {},
   "outputs": [],
   "source": [
    "# Recale between 0 and 1\n",
    "image1 = (image1 - np.min(image1))/np.ptp(image1)\n",
    "image2 = (image2 - np.min(image2))/np.ptp(image2)\n",
    "\n",
    "# Rescale between -1 and 1\n",
    "image1 = 2.*(image1 - np.min(image1))/np.ptp(image1)-1\n",
    "image2 = 2.*(image2 - np.min(image2))/np.ptp(image2)-1\n",
    "\n",
    "InterpolMatrix = Interpol(image1, image2, 10)"
   ]
  },
  {
   "cell_type": "code",
   "execution_count": null,
   "metadata": {},
   "outputs": [],
   "source": []
  },
  {
   "cell_type": "code",
   "execution_count": 511,
   "metadata": {},
   "outputs": [
    {
     "data": {
      "text/plain": [
       "0.7"
      ]
     },
     "execution_count": 511,
     "metadata": {},
     "output_type": "execute_result"
    }
   ],
   "source": []
  },
  {
   "cell_type": "code",
   "execution_count": 715,
   "metadata": {},
   "outputs": [
    {
     "data": {
      "text/plain": [
       "<matplotlib.image.AxesImage at 0x1bac876ccc8>"
      ]
     },
     "execution_count": 715,
     "metadata": {},
     "output_type": "execute_result"
    },
    {
     "data": {
      "image/png": "[encoded data removed]",
      "text/plain": [
       "<Figure size 432x288 with 1 Axes>"
      ]
     },
     "metadata": {
      "needs_background": "light"
     },
     "output_type": "display_data"
    }
   ],
   "source": [
    "plt.imshow(InterpolMulti[35], cmap='gray')"
   ]
  },
  {
   "cell_type": "code",
   "execution_count": 565,
   "metadata": {},
   "outputs": [
    {
     "data": {
      "text/plain": [
       "[0.0, 0.1, 0.2, 0.3, 0.4, 0.5, 0.6, 0.7, 0.8, 0.9, 1.0]"
      ]
     },
     "execution_count": 565,
     "metadata": {},
     "output_type": "execute_result"
    }
   ],
   "source": [
    "increments(10)"
   ]
  },
  {
   "cell_type": "code",
   "execution_count": 552,
   "metadata": {},
   "outputs": [
    {
     "data": {
      "text/plain": [
       "[0.0, 0.1, 0.2, 0.3, 0.4, 0.5, 0.6, 0.7, 0.8, 0.9, 1.0]"
      ]
     },
     "execution_count": 552,
     "metadata": {},
     "output_type": "execute_result"
    }
   ],
   "source": [
    "steps = 10\n",
    "steps = int(100/steps)\n",
    "a = range(0,100,steps)\n",
    "b = [x for x in a]\n",
    "c = b + [100]\n",
    "c = [x/100 for x in c]\n",
    "c"
   ]
  }
 ],
 "metadata": {
  "kernelspec": {
   "display_name": "Python 3",
   "language": "python",
   "name": "python3"
  },
  "language_info": {
   "codemirror_mode": {
    "name": "ipython",
    "version": 3
   },
   "file_extension": ".py",
   "mimetype": "text/x-python",
   "name": "python",
   "nbconvert_exporter": "python",
   "pygments_lexer": "ipython3",
   "version": "3.7.4"
  }
 },
 "nbformat": 4,
 "nbformat_minor": 2
}
